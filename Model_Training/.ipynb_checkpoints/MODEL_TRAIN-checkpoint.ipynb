{
 "cells": [
  {
   "cell_type": "markdown",
   "metadata": {
    "id": "hLQPYA6YnK3C"
   },
   "source": [
    "### CODE RUN ON GOOGLE COLAB, Data used from google drive."
   ]
  },
  {
   "cell_type": "markdown",
   "metadata": {
    "id": "5Rc_C4l7nK3N"
   },
   "source": [
    "#### Data preparred by merging various datasets together and also have manually downloaded a few classes from google"
   ]
  },
  {
   "cell_type": "code",
   "execution_count": null,
   "metadata": {
    "id": "6oKnhfk9a43g"
   },
   "outputs": [],
   "source": [
    "\"\"\"\n",
    "Imports\n",
    "import os\n",
    "from PIL import Image\n",
    "import splitfolders\n",
    "!pip install split-folders\n",
    "import numpy as np\n",
    "import pandas as pd\n",
    "%matplotlib inline\n",
    "import matplotlib.pyplot as plt\n",
    "import tensorflow as tf\n",
    "from tensorflow import keras\n",
    "\"\"\"\n"
   ]
  },
  {
   "cell_type": "code",
   "execution_count": 16,
   "metadata": {
    "colab": {
     "base_uri": "https://localhost:8080/"
    },
    "id": "OaXVxpz4rGjX",
    "outputId": "a45d06bd-f0f9-403f-932c-558f39d158f6"
   },
   "outputs": [
    {
     "name": "stderr",
     "output_type": "stream",
     "text": [
      "/usr/local/lib/python3.7/dist-packages/tensorflow/python/client/session.py:1771: UserWarning: An interactive session is already active. This can cause out-of-memory errors in some cases. You must explicitly call `InteractiveSession.close()` to release resources held by the other session(s).\n",
      "  warnings.warn('An interactive session is already active. This can '\n"
     ]
    }
   ],
   "source": [
    "# GPU configuration\n",
    "from tensorflow.compat.v1 import ConfigProto\n",
    "from tensorflow.compat.v1 import InteractiveSession\n",
    "\n",
    "config = ConfigProto()\n",
    "config.gpu_options.per_process_gpu_memory_fraction = 0.5\n",
    "config.gpu_options.allow_growth = True\n",
    "session = InteractiveSession(config=config)"
   ]
  },
  {
   "cell_type": "code",
   "execution_count": 2,
   "metadata": {
    "colab": {
     "base_uri": "https://localhost:8080/"
    },
    "id": "oRa73t2vYbEB",
    "outputId": "1bf5d9ac-5181-493d-f590-ca26050f8e94"
   },
   "outputs": [
    {
     "name": "stdout",
     "output_type": "stream",
     "text": [
      "Mounted at /content/gdrive\n"
     ]
    }
   ],
   "source": [
    "from google.colab import drive\n",
    "drive.mount('/content/gdrive')"
   ]
  },
  {
   "cell_type": "code",
   "execution_count": null,
   "metadata": {
    "id": "XqcTtWPP0oHB"
   },
   "outputs": [],
   "source": [
    "import os\n"
   ]
  },
  {
   "cell_type": "markdown",
   "metadata": {
    "id": "4O5FRwwCjXpG"
   },
   "source": [
    "#Data Preprocessing"
   ]
  },
  {
   "cell_type": "markdown",
   "metadata": {
    "id": "f27cF9V6Y7FS"
   },
   "source": [
    "Checking for Corrupt Files"
   ]
  },
  {
   "cell_type": "code",
   "execution_count": null,
   "metadata": {
    "id": "M__-yXwyYeBS"
   },
   "outputs": [],
   "source": [
    "\"\"\"import os\n",
    "from PIL import Image\n",
    "folder_path = r'/content/gdrive/MyDrive/FOOD_APP/dataset'\n",
    "extensions = ['jpg', 'png', 'bmp', 'gif']\n",
    "for fldr in os.listdir(folder_path):\n",
    "    sub_folder_path = os.path.join(folder_path, fldr)\n",
    "    for filee in os.listdir(sub_folder_path):\n",
    "        file_path = os.path.join(sub_folder_path, filee)\n",
    "        print('** Path: {}  **'.format(file_path), end=\"\\r\", flush=True)\n",
    "        im = Image.open(file_path)\n",
    "        rgb_im = im.convert('RGB')\n",
    "        if filee.split('.')[1] not in extensions:\n",
    "            extensions.append(filee.split('.')[1])\"\"\""
   ]
  },
  {
   "cell_type": "code",
   "execution_count": null,
   "metadata": {
    "id": "spD7RCYoZSXc"
   },
   "outputs": [],
   "source": [
    "#Deleting corrupt files\n",
    "#os.remove('/content/gdrive/MyDrive/FOOD_APP/dataset/biriyani/04d39a92fc.jpg')"
   ]
  },
  {
   "cell_type": "code",
   "execution_count": 4,
   "metadata": {
    "colab": {
     "base_uri": "https://localhost:8080/",
     "height": 36
    },
    "id": "FMfxBFvun0d4",
    "outputId": "86e65106-179c-4e0c-c651-825f3ab59d8f"
   },
   "outputs": [
    {
     "data": {
      "application/vnd.google.colaboratory.intrinsic+json": {
       "type": "string"
      },
      "text/plain": [
       "'/content'"
      ]
     },
     "execution_count": 4,
     "metadata": {},
     "output_type": "execute_result"
    }
   ],
   "source": [
    "pwd"
   ]
  },
  {
   "cell_type": "code",
   "execution_count": 3,
   "metadata": {
    "colab": {
     "base_uri": "https://localhost:8080/"
    },
    "id": "M4tKe4W8aBTG",
    "outputId": "476686a9-4dac-4fc8-da8c-7eabce0c24d1"
   },
   "outputs": [
    {
     "name": "stdout",
     "output_type": "stream",
     "text": [
      "rice   140\n",
      "ras_malai   100\n",
      "samosa   562\n",
      "tandoori chicken   228\n",
      "refreshing_drink   297\n",
      "toast   100\n",
      "poori   377\n",
      "rasgulla   217\n",
      "pizza   287\n",
      "noodles   195\n",
      "paani_puri   259\n",
      "pakode   382\n",
      "naan   648\n",
      "oranges   102\n",
      "meduvada   212\n",
      "pav_bhaji   353\n",
      "paneer   717\n",
      "momos   317\n",
      "mangoes   131\n",
      "kaathi_rolls   391\n",
      "icecream   542\n",
      "halwa   367\n",
      "idli   765\n",
      "jalebi   528\n",
      "kadhi_pakoda   102\n",
      "masala_dosa   541\n",
      "eggs   149\n",
      "gulab jamun   247\n",
      "fried_rice   471\n",
      "dal_tadka   108\n",
      "dal_makhani   425\n",
      "chole_bhature   478\n",
      "chapati   545\n",
      "dahi_vada   220\n",
      "chicken   220\n",
      "chaat   117\n",
      "aloo_mix   133\n",
      "bhindi_masala   107\n",
      "burger   308\n",
      "aloo_tikki   157\n",
      "chai   378\n",
      "banana   103\n",
      "chana_masala   237\n"
     ]
    }
   ],
   "source": [
    "\n",
    "\n",
    "# Count Files\n",
    "import os\n",
    "folder_path = r'/content/gdrive/MyDrive/FOOD_APP/dataset'\n",
    "for fldr in os.listdir(folder_path):\n",
    "    sub_folder_path = os.path.join(folder_path, fldr)\n",
    "    count=0\n",
    "    for filee in os.listdir(sub_folder_path):\n",
    "        count=count+1\n",
    "    print(fldr,\" \",count)\n",
    "        "
   ]
  },
  {
   "cell_type": "code",
   "execution_count": null,
   "metadata": {
    "colab": {
     "base_uri": "https://localhost:8080/"
    },
    "id": "Oiwhgvbme2TS",
    "outputId": "e509faed-3bfb-47f1-d6d7-60eb759487d7"
   },
   "outputs": [
    {
     "name": "stdout",
     "output_type": "stream",
     "text": [
      "Collecting split-folders\n",
      "  Downloading https://files.pythonhosted.org/packages/b8/5f/3c2b2f7ea5e047c8cdc3bb00ae582c5438fcdbbedcc23b3cc1c2c7aae642/split_folders-0.4.3-py3-none-any.whl\n",
      "Installing collected packages: split-folders\n",
      "Successfully installed split-folders-0.4.3\n"
     ]
    }
   ],
   "source": [
    "\n",
    "!pip install split-folders"
   ]
  },
  {
   "cell_type": "code",
   "execution_count": null,
   "metadata": {
    "colab": {
     "base_uri": "https://localhost:8080/"
    },
    "id": "8pFIqv0oeAe0",
    "outputId": "7e09da96-06c2-4112-daa4-d0fcd1d50fd0"
   },
   "outputs": [
    {
     "name": "stderr",
     "output_type": "stream",
     "text": [
      "Copying files: 13263 files [1:02:19,  3.55 files/s]\n"
     ]
    }
   ],
   "source": [
    "#Spliting to Train Validate Test Folders\n",
    "import splitfolders\n",
    "splitfolders.ratio(r\"/content/drive/MyDrive/FOOD_APP/dataset\", output=r\"/content/drive/MyDrive/FOOD_APP/output\", seed=223, ratio=(.55, 0.25,0.2)) "
   ]
  },
  {
   "cell_type": "code",
   "execution_count": 17,
   "metadata": {
    "id": "QJ9oDxZhHQ6M"
   },
   "outputs": [],
   "source": [
    "\n",
    "#paths\n",
    "train_dir = r'/content/gdrive/MyDrive/FOOD_APP/output/train'\n",
    "validation_dir = r'/content/gdrive/MyDrive/FOOD_APP/output/val'\n",
    "test_dir =r'/content/gdrive/MyDrive/FOOD_APP/output/test'"
   ]
  },
  {
   "cell_type": "code",
   "execution_count": 6,
   "metadata": {
    "colab": {
     "base_uri": "https://localhost:8080/"
    },
    "id": "k1ktktfCl_QT",
    "outputId": "ce2369d2-da70-4e56-9f78-4ca54ccc8a9e"
   },
   "outputs": [
    {
     "name": "stdout",
     "output_type": "stream",
     "text": [
      "rice   77\n",
      "samosa   309\n",
      "tandoori chicken   125\n",
      "refreshing_drink   163\n",
      "toast   55\n",
      "poori   207\n",
      "rasgulla   119\n",
      "pizza   157\n",
      "noodles   107\n",
      "paani_puri   142\n",
      "pakode   210\n",
      "naan   356\n",
      "oranges   56\n",
      "meduvada   116\n",
      "pav_bhaji   194\n",
      "paneer   394\n",
      "momos   174\n",
      "mangoes   72\n",
      "kaathi_rolls   215\n",
      "icecream   298\n",
      "halwa   201\n",
      "idli   420\n",
      "jalebi   290\n",
      "kadhi_pakoda   56\n",
      "masala_dosa   297\n",
      "eggs   81\n",
      "gulab jamun   135\n",
      "fried_rice   259\n",
      "dal_tadka   59\n",
      "dal_makhani   233\n",
      "chole_bhature   262\n",
      "chapati   299\n",
      "dahi_vada   121\n",
      "aloo_mix   73\n",
      "bhindi_masala   58\n",
      "burger   169\n",
      "aloo_tikki   86\n",
      "chai   207\n",
      "banana   56\n",
      "chana_masala   130\n"
     ]
    }
   ],
   "source": [
    "\n",
    "# Count Train Data Files\n",
    "folder_path = train_dir\n",
    "for fldr in os.listdir(folder_path):\n",
    "    sub_folder_path = os.path.join(folder_path, fldr)\n",
    "    count=0\n",
    "    for filee in os.listdir(sub_folder_path):\n",
    "        count=count+1\n",
    "    print(fldr,\" \",count)"
   ]
  },
  {
   "cell_type": "code",
   "execution_count": 18,
   "metadata": {
    "id": "98Osajq6hSG5"
   },
   "outputs": [],
   "source": [
    "import numpy as np\n",
    "import pandas as pd\n",
    "%matplotlib inline\n",
    "import matplotlib.pyplot as plt\n"
   ]
  },
  {
   "cell_type": "code",
   "execution_count": 60,
   "metadata": {
    "colab": {
     "base_uri": "https://localhost:8080/",
     "height": 36
    },
    "id": "HiuJicg-q_FC",
    "outputId": "b46f5369-004b-44f7-85b3-eda384568301"
   },
   "outputs": [
    {
     "data": {
      "application/vnd.google.colaboratory.intrinsic+json": {
       "type": "string"
      },
      "text/plain": [
       "'2.7.0'"
      ]
     },
     "execution_count": 60,
     "metadata": {},
     "output_type": "execute_result"
    }
   ],
   "source": [
    "import tensorflow as tf\n",
    "from tensorflow import keras\n",
    "tf.__version__"
   ]
  },
  {
   "cell_type": "code",
   "execution_count": 19,
   "metadata": {
    "id": "CWUwA599hSvS"
   },
   "outputs": [],
   "source": []
  },
  {
   "cell_type": "code",
   "execution_count": 5,
   "metadata": {
    "id": "CoIq3oFwewtP"
   },
   "outputs": [],
   "source": [
    "from tensorflow.keras.preprocessing.image import ImageDataGenerator\n"
   ]
  },
  {
   "cell_type": "code",
   "execution_count": 6,
   "metadata": {
    "id": "VOc3WPygjnzR"
   },
   "outputs": [],
   "source": [
    "# Generating batches of  images\n",
    "## Pixel scaling, duplication\n",
    "train_gen = ImageDataGenerator(rescale=1.0/255,\n",
    "                               rotation_range=30,\n",
    "                               width_shift_range=0.2,\n",
    "                               height_shift_range=0.2,\n",
    "                               \n",
    "                               zoom_range=0.2,\n",
    "                               horizontal_flip=True)\n",
    "test_gen = ImageDataGenerator(rescale=1.0/255)"
   ]
  },
  {
   "cell_type": "code",
   "execution_count": 22,
   "metadata": {
    "id": "7J_4JM3QhwwK"
   },
   "outputs": [],
   "source": [
    "input_size=(224,224)"
   ]
  },
  {
   "cell_type": "code",
   "execution_count": 23,
   "metadata": {
    "colab": {
     "base_uri": "https://localhost:8080/"
    },
    "id": "xDqssQ9_jn1m",
    "outputId": "b636d163-5ee9-4216-e2bb-a8c5e207efee"
   },
   "outputs": [
    {
     "name": "stdout",
     "output_type": "stream",
     "text": [
      "Found 7037 images belonging to 40 classes.\n",
      "Found 3192 images belonging to 40 classes.\n"
     ]
    }
   ],
   "source": [
    "train_generator=train_gen.flow_from_directory(\n",
    "        train_dir,\n",
    "        target_size=input_size,\n",
    "        batch_size=30,\n",
    "        class_mode = 'categorical')\n",
    "\n",
    "validation_generator = test_gen.flow_from_directory(\n",
    "        validation_dir,\n",
    "        target_size=input_size,\n",
    "        batch_size=30,\n",
    "        class_mode = 'categorical')"
   ]
  },
  {
   "cell_type": "markdown",
   "metadata": {
    "id": "wEQdVKfSj7eL"
   },
   "source": [
    "# MODEL"
   ]
  },
  {
   "cell_type": "code",
   "execution_count": 24,
   "metadata": {
    "id": "7ClrR6Mmjn4V"
   },
   "outputs": [],
   "source": [
    "### CNN MobileNet layer download\n",
    "mobile=tf.keras.applications.mobilenet.MobileNet(weights='imagenet',\n",
    "                  include_top=False,\n",
    "                  input_shape=(224, 224, 3))"
   ]
  },
  {
   "cell_type": "code",
   "execution_count": null,
   "metadata": {
    "id": "RFn8inYhjn7E"
   },
   "outputs": [],
   "source": [
    "mobile.summary()"
   ]
  },
  {
   "cell_type": "code",
   "execution_count": 15,
   "metadata": {
    "id": "v8MkHpvQjn9k"
   },
   "outputs": [],
   "source": [
    "from tensorflow.keras import backend as K \n",
    "\n",
    "K.clear_session()\n",
    "del model"
   ]
  },
  {
   "cell_type": "code",
   "execution_count": 26,
   "metadata": {
    "id": "7LUbLuaLjn_x"
   },
   "outputs": [],
   "source": [
    "from tensorflow.keras import models\n",
    "from tensorflow.keras import layers\n",
    "\n",
    "model = models.Sequential()\n",
    "model.add(mobile)\n",
    "model.add(layers.Flatten())\n",
    "model.add(layers.Dropout(0.5))\n",
    "model.add(layers.Dense(40, activation='softmax'))"
   ]
  },
  {
   "cell_type": "code",
   "execution_count": 36,
   "metadata": {
    "colab": {
     "base_uri": "https://localhost:8080/"
    },
    "id": "lHanVZueiNDN",
    "outputId": "2d06bee8-6437-4a0c-db72-a2b4dfb8875d"
   },
   "outputs": [
    {
     "data": {
      "text/plain": [
       "<KerasTensor: shape=(None, 224, 224, 3) dtype=float32 (created by layer 'input_2')>"
      ]
     },
     "execution_count": 36,
     "metadata": {},
     "output_type": "execute_result"
    }
   ],
   "source": [
    "# mobile.input"
   ]
  },
  {
   "cell_type": "code",
   "execution_count": 27,
   "metadata": {
    "id": "c8prZZekiNPi"
   },
   "outputs": [],
   "source": [
    "for layers in model.layers[:-23]:\n",
    "    layers.trainable=False"
   ]
  },
  {
   "cell_type": "code",
   "execution_count": 56,
   "metadata": {
    "colab": {
     "base_uri": "https://localhost:8080/"
    },
    "id": "2lMh9Q4ojoC9",
    "outputId": "d6a4c1e0-8431-4671-acf1-bde2c04f426c"
   },
   "outputs": [
    {
     "name": "stdout",
     "output_type": "stream",
     "text": [
      "Model: \"sequential\"\n",
      "_________________________________________________________________\n",
      " Layer (type)                Output Shape              Param #   \n",
      "=================================================================\n",
      " mobilenet_1.00_224 (Functio  (None, 7, 7, 1024)       3228864   \n",
      " nal)                                                            \n",
      "                                                                 \n",
      " flatten (Flatten)           (None, 50176)             0         \n",
      "                                                                 \n",
      " dense_3 (Dense)             (None, 40)                2007080   \n",
      "                                                                 \n",
      "=================================================================\n",
      "Total params: 5,235,944\n",
      "Trainable params: 5,214,056\n",
      "Non-trainable params: 21,888\n",
      "_________________________________________________________________\n"
     ]
    }
   ],
   "source": [
    "model.summary()"
   ]
  },
  {
   "cell_type": "code",
   "execution_count": 28,
   "metadata": {
    "colab": {
     "base_uri": "https://localhost:8080/"
    },
    "id": "rMmTxMp2lAZF",
    "outputId": "4eeb6f28-7024-48d0-ccf7-53e884fc839e"
   },
   "outputs": [
    {
     "name": "stderr",
     "output_type": "stream",
     "text": [
      "/usr/local/lib/python3.7/dist-packages/keras/optimizer_v2/adam.py:105: UserWarning: The `lr` argument is deprecated, use `learning_rate` instead.\n",
      "  super(Adam, self).__init__(name, **kwargs)\n"
     ]
    }
   ],
   "source": [
    "from tensorflow.keras import optimizers\n",
    "model.compile(optimizer=optimizers.Adam(lr=1e-4),loss='categorical_crossentropy',metrics=['acc'])"
   ]
  },
  {
   "cell_type": "code",
   "execution_count": 29,
   "metadata": {
    "id": "VpC4mAo-lAbM"
   },
   "outputs": [],
   "source": [
    "from tensorflow.keras.callbacks import EarlyStopping,ModelCheckpoint\n",
    "\n",
    "early_stop = EarlyStopping(monitor='val_loss',mode = 'min',verbose=1,patience=5)\n",
    "checkpoint_cb = ModelCheckpoint(\"CNN_Project_Model-{epoch:02d}.h5\",save_best_only=True)"
   ]
  },
  {
   "cell_type": "code",
   "execution_count": 30,
   "metadata": {
    "colab": {
     "base_uri": "https://localhost:8080/"
    },
    "id": "4rW0YUguqWNd",
    "outputId": "12ee1a53-2181-465c-97c2-0a8f8dd3f2ef"
   },
   "outputs": [
    {
     "name": "stdout",
     "output_type": "stream",
     "text": [
      "/content/gdrive/MyDrive/FOOD_APP\n"
     ]
    }
   ],
   "source": [
    "cd /content/gdrive/MyDrive/FOOD_APP"
   ]
  },
  {
   "cell_type": "code",
   "execution_count": 31,
   "metadata": {
    "colab": {
     "base_uri": "https://localhost:8080/"
    },
    "id": "06L5VcUMlAdQ",
    "outputId": "121f8369-7b1b-4161-87c7-1a40b0ffb3c8"
   },
   "outputs": [
    {
     "name": "stdout",
     "output_type": "stream",
     "text": [
      "Epoch 1/40\n",
      "235/235 [==============================] - 3078s 13s/step - loss: 3.8487 - acc: 0.3516 - val_loss: 1.7286 - val_acc: 0.6476\n",
      "Epoch 2/40\n",
      "235/235 [==============================] - 1684s 7s/step - loss: 2.1349 - acc: 0.5910 - val_loss: 1.4743 - val_acc: 0.7253\n",
      "Epoch 3/40\n",
      "235/235 [==============================] - 1695s 7s/step - loss: 1.6496 - acc: 0.6773 - val_loss: 1.3824 - val_acc: 0.7534\n",
      "Epoch 4/40\n",
      "235/235 [==============================] - 1682s 7s/step - loss: 1.3320 - acc: 0.7196 - val_loss: 1.2638 - val_acc: 0.7788\n",
      "Epoch 5/40\n",
      "235/235 [==============================] - 1686s 7s/step - loss: 1.1265 - acc: 0.7490 - val_loss: 1.2378 - val_acc: 0.7794\n",
      "Epoch 6/40\n",
      "235/235 [==============================] - 1672s 7s/step - loss: 0.9550 - acc: 0.7762 - val_loss: 1.1035 - val_acc: 0.7926\n",
      "Epoch 7/40\n",
      "235/235 [==============================] - 1659s 7s/step - loss: 0.7327 - acc: 0.8146 - val_loss: 1.0513 - val_acc: 0.7998\n",
      "Epoch 8/40\n",
      "235/235 [==============================] - 1692s 7s/step - loss: 0.6451 - acc: 0.8302 - val_loss: 1.0154 - val_acc: 0.8045\n",
      "Epoch 9/40\n",
      "235/235 [==============================] - 1683s 7s/step - loss: 0.5776 - acc: 0.8418 - val_loss: 0.9812 - val_acc: 0.8177\n",
      "Epoch 10/40\n",
      "235/235 [==============================] - 1717s 7s/step - loss: 0.5203 - acc: 0.8535 - val_loss: 0.9545 - val_acc: 0.8123\n",
      "Epoch 11/40\n",
      "235/235 [==============================] - 1690s 7s/step - loss: 0.4568 - acc: 0.8710 - val_loss: 0.9189 - val_acc: 0.8174\n",
      "Epoch 12/40\n",
      "235/235 [==============================] - 1700s 7s/step - loss: 0.4056 - acc: 0.8853 - val_loss: 0.8890 - val_acc: 0.8230\n",
      "Epoch 13/40\n",
      "235/235 [==============================] - 1709s 7s/step - loss: 0.3432 - acc: 0.8960 - val_loss: 0.8588 - val_acc: 0.8236\n",
      "Epoch 14/40\n",
      "235/235 [==============================] - 1721s 7s/step - loss: 0.3331 - acc: 0.8990 - val_loss: 0.9149 - val_acc: 0.8296\n",
      "Epoch 15/40\n",
      "235/235 [==============================] - 1711s 7s/step - loss: 0.3159 - acc: 0.9031 - val_loss: 0.9600 - val_acc: 0.8155\n",
      "Epoch 16/40\n",
      "235/235 [==============================] - 1682s 7s/step - loss: 0.2851 - acc: 0.9139 - val_loss: 0.9327 - val_acc: 0.8249\n",
      "Epoch 17/40\n",
      "235/235 [==============================] - 1691s 7s/step - loss: 0.2922 - acc: 0.9132 - val_loss: 0.8859 - val_acc: 0.8311\n",
      "Epoch 18/40\n",
      "235/235 [==============================] - 1678s 7s/step - loss: 0.2342 - acc: 0.9302 - val_loss: 0.8789 - val_acc: 0.8296\n",
      "Epoch 00018: early stopping\n"
     ]
    }
   ],
   "source": [
    "history = model.fit(\n",
    "      train_generator,\n",
    "      epochs=40,\n",
    "      validation_data=validation_generator,\n",
    "      callbacks=[checkpoint_cb,early_stop,])\n"
   ]
  },
  {
   "cell_type": "markdown",
   "metadata": {
    "id": "-oPvG7VnlAfx",
    "outputId": "ab33a67f-76e0-4f9f-bf17-18458e95d00d"
   },
   "source": [
    "### Analysis"
   ]
  },
  {
   "cell_type": "code",
   "execution_count": 32,
   "metadata": {
    "colab": {
     "base_uri": "https://localhost:8080/",
     "height": 534
    },
    "id": "9eM0xlKuoVDo",
    "outputId": "4909999d-a710-4696-e0c2-21160208d166"
   },
   "outputs": [
    {
     "data": {
      "image/png": "[encoded data removed]",
      "text/plain": [
       "<Figure size 432x288 with 1 Axes>"
      ]
     },
     "metadata": {
      "needs_background": "light"
     },
     "output_type": "display_data"
    },
    {
     "data": {
      "image/png": "[encoded data removed]",
      "text/plain": [
       "<Figure size 432x288 with 1 Axes>"
      ]
     },
     "metadata": {
      "needs_background": "light"
     },
     "output_type": "display_data"
    },
    {
     "data": {
      "text/plain": [
       "<Figure size 432x288 with 0 Axes>"
      ]
     },
     "metadata": {},
     "output_type": "display_data"
    }
   ],
   "source": [
    "plt.plot(history.history['loss'], label='train loss')\n",
    "plt.plot(history.history['val_loss'], label='val loss')\n",
    "plt.legend()\n",
    "plt.show()\n",
    "plt.savefig('LossVal_loss')\n",
    "\n",
    "# plot the accuracy\n",
    "plt.plot(history.history['acc'], label='train acc')\n",
    "plt.plot(history.history['val_acc'], label='val acc')\n",
    "plt.legend()\n",
    "plt.show()\n",
    "plt.savefig('AccVal_acc')"
   ]
  },
  {
   "cell_type": "code",
   "execution_count": 33,
   "metadata": {
    "colab": {
     "base_uri": "https://localhost:8080/"
    },
    "id": "l8jAlSr6lAiv",
    "outputId": "2f328106-c438-4bc9-9655-b49a607f7644"
   },
   "outputs": [
    {
     "name": "stdout",
     "output_type": "stream",
     "text": [
      "Found 2596 images belonging to 40 classes.\n"
     ]
    }
   ],
   "source": [
    "test_generator = test_gen.flow_from_directory(\n",
    "        test_dir,\n",
    "        target_size=(224, 224),\n",
    "        batch_size=30,\n",
    "        class_mode='categorical')"
   ]
  },
  {
   "cell_type": "code",
   "execution_count": 36,
   "metadata": {
    "colab": {
     "base_uri": "https://localhost:8080/"
    },
    "id": "9LYaqpMLlAkY",
    "outputId": "30bbf8c8-d1ae-42a6-b2d1-f6d8fc971f5b"
   },
   "outputs": [
    {
     "name": "stderr",
     "output_type": "stream",
     "text": [
      "/usr/local/lib/python3.7/dist-packages/ipykernel_launcher.py:1: UserWarning: `Model.evaluate_generator` is deprecated and will be removed in a future version. Please use `Model.evaluate`, which supports generators.\n",
      "  \"\"\"Entry point for launching an IPython kernel.\n"
     ]
    },
    {
     "data": {
      "text/plain": [
       "[0.9157332181930542, 0.8281972408294678]"
      ]
     },
     "execution_count": 36,
     "metadata": {},
     "output_type": "execute_result"
    }
   ],
   "source": [
    "model.evaluate_generator(test_generator)\n",
    "#[Test_Loss Test_accuracy]"
   ]
  },
  {
   "cell_type": "code",
   "execution_count": 35,
   "metadata": {
    "id": "NC1sR-oaxU76"
   },
   "outputs": [],
   "source": [
    "from tensorflow.keras.models import load_model\n",
    "model.save('/content/gdrive/MyDrive/FOOD_APP/back.h5') "
   ]
  },
  {
   "cell_type": "markdown",
   "metadata": {
    "id": "NAv4J-3snK4R"
   },
   "source": [
    "### Retrieving checkpoint model from epoch 8\n",
    "\n",
    "Epoch 13/40\n",
    "235/235 [==============================] - 1709s 7s/step - \n",
    "\n",
    "#### loss: 0.3432 - acc: 0.8960 - val_loss: 0.8588 - val_acc: 0.8236"
   ]
  },
  {
   "cell_type": "code",
   "execution_count": 37,
   "metadata": {
    "colab": {
     "base_uri": "https://localhost:8080/"
    },
    "id": "Hdp9AcRC412s",
    "outputId": "383b7ae4-bf04-462c-9138-19c6c8b0349c"
   },
   "outputs": [
    {
     "name": "stderr",
     "output_type": "stream",
     "text": [
      "/usr/local/lib/python3.7/dist-packages/ipykernel_launcher.py:4: UserWarning: `Model.evaluate_generator` is deprecated and will be removed in a future version. Please use `Model.evaluate`, which supports generators.\n",
      "  after removing the cwd from sys.path.\n"
     ]
    },
    {
     "data": {
      "text/plain": [
       "[0.8811087012290955, 0.8255007863044739]"
      ]
     },
     "execution_count": 37,
     "metadata": {},
     "output_type": "execute_result"
    }
   ],
   "source": [
    "\n",
    "from tensorflow.keras.models import load_model\n",
    "model2=load_model('/content/gdrive/MyDrive/FOOD_APP/CNN_Project_Model-13.h5')\n",
    "model2.evaluate_generator(test_generator)"
   ]
  },
  {
   "cell_type": "markdown",
   "metadata": {
    "colab": {
     "base_uri": "https://localhost:8080/"
    },
    "id": "md6wfS1EYEE0",
    "outputId": "d1dcd58e-e1be-44ad-f275-05ea65473e77"
   },
   "source": [
    "## Continuing on local system\n"
   ]
  },
  {
   "cell_type": "code",
   "execution_count": 7,
   "metadata": {
    "id": "-aS5LDcnlAnI"
   },
   "outputs": [],
   "source": [
    "\n",
    "from tensorflow.keras.models import load_model\n",
    "model=load_model(r'models.h5/back.h5')\n"
   ]
  },
  {
   "cell_type": "code",
   "execution_count": 11,
   "metadata": {
    "id": "gwDdR4MYYFNZ"
   },
   "outputs": [],
   "source": [
    "#paths\n",
    "test_dir =r'data/test'"
   ]
  },
  {
   "cell_type": "code",
   "execution_count": 12,
   "metadata": {},
   "outputs": [],
   "source": [
    "from tensorflow.keras.preprocessing.image import ImageDataGenerator\n",
    "test_gen = ImageDataGenerator(rescale=1.0/255)"
   ]
  },
  {
   "cell_type": "code",
   "execution_count": 13,
   "metadata": {},
   "outputs": [
    {
     "name": "stdout",
     "output_type": "stream",
     "text": [
      "Found 2596 images belonging to 40 classes.\n"
     ]
    }
   ],
   "source": [
    "test_generator = test_gen.flow_from_directory(\n",
    "        test_dir,\n",
    "        target_size=(224, 224),\n",
    "        batch_size=30,\n",
    "        class_mode='categorical')"
   ]
  },
  {
   "cell_type": "code",
   "execution_count": 14,
   "metadata": {
    "colab": {
     "base_uri": "https://localhost:8080/"
    },
    "id": "dS4wcADElApa",
    "outputId": "93796458-558f-4043-a151-58ecf823a401"
   },
   "outputs": [
    {
     "name": "stdout",
     "output_type": "stream",
     "text": [
      "WARNING:tensorflow:From <ipython-input-14-7b6b937cad22>:1: Model.evaluate_generator (from tensorflow.python.keras.engine.training) is deprecated and will be removed in a future version.\n",
      "Instructions for updating:\n",
      "Please use Model.evaluate, which supports generators.\n"
     ]
    },
    {
     "data": {
      "text/plain": [
       "[0.915733277797699, 0.8281972408294678]"
      ]
     },
     "execution_count": 14,
     "metadata": {},
     "output_type": "execute_result"
    }
   ],
   "source": [
    "model.evaluate_generator(test_generator)\n",
    "#[Test_Loss Test_accuracy]"
   ]
  },
  {
   "cell_type": "markdown",
   "metadata": {
    "id": "0n3T1DFNxUxP"
   },
   "source": [
    "### Classification_report"
   ]
  },
  {
   "cell_type": "code",
   "execution_count": 16,
   "metadata": {
    "id": "sgtCdFIGnK4U",
    "outputId": "1be976ee-49c9-4949-8d18-eb6a1c3d5482"
   },
   "outputs": [
    {
     "name": "stderr",
     "output_type": "stream",
     "text": [
      "C:\\Users\\HP\\anaconda3\\lib\\site-packages\\ipykernel_launcher.py:18: VisibleDeprecationWarning: Creating an ndarray from ragged nested sequences (which is a list-or-tuple of lists-or-tuples-or ndarrays with different lengths or shapes) is deprecated. If you meant to do this, you must specify 'dtype=object' when creating the ndarray.\n"
     ]
    }
   ],
   "source": [
    "import os\n",
    "import cv2\n",
    "import numpy as np\n",
    "from tensorflow.keras.preprocessing import image\n",
    "categories = os.listdir(test_dir)\n",
    "img_size = 224\n",
    "def get_data(data_dir):\n",
    "    data = []\n",
    "    for category in categories:\n",
    "        path = os.path.join(data_dir, category)\n",
    "        class_num = categories.index(category)\n",
    "        for img in os.listdir(path):\n",
    "           \n",
    "                img_arr = image.load_img(os.path.join(path,img),target_size=(224,224))\n",
    "                x=image.img_to_array(img_arr)\n",
    "                data.append([x, class_num])\n",
    "           \n",
    "    return np.array(data)        \n",
    "    \n",
    "    \n",
    "\n",
    "val = get_data(test_dir)\n"
   ]
  },
  {
   "cell_type": "code",
   "execution_count": 17,
   "metadata": {
    "id": "8zMmMEUo0iCs"
   },
   "outputs": [],
   "source": [
    "x_val=[]\n",
    "y_val=[]\n",
    "for feature, label in val:\n",
    "    x_val.append(feature)\n",
    "    y_val.append(label)"
   ]
  },
  {
   "cell_type": "code",
   "execution_count": 18,
   "metadata": {
    "colab": {
     "base_uri": "https://localhost:8080/"
    },
    "id": "JN_x161k0iJb",
    "outputId": "b37c64da-d556-4345-9ba5-823c33f56e37"
   },
   "outputs": [
    {
     "name": "stdout",
     "output_type": "stream",
     "text": [
      "WARNING:tensorflow:From <ipython-input-18-bcdd5f82e612>:5: Sequential.predict_classes (from tensorflow.python.keras.engine.sequential) is deprecated and will be removed after 2021-01-01.\n",
      "Instructions for updating:\n",
      "Please use instead:* `np.argmax(model.predict(x), axis=-1)`,   if your model does multi-class classification   (e.g. if it uses a `softmax` last-layer activation).* `(model.predict(x) > 0.5).astype(\"int32\")`,   if your model does binary classification   (e.g. if it uses a `sigmoid` last-layer activation).\n"
     ]
    }
   ],
   "source": [
    "x_val = np.array(x_val) / 255\n",
    "x_val.reshape(-1,img_size,img_size,1)\n",
    "y_val = np.array(y_val)\n",
    "\n",
    "prediction = model.predict_classes(x_val)\n",
    "prediction = prediction.reshape(1,-1)[0]"
   ]
  },
  {
   "cell_type": "code",
   "execution_count": 19,
   "metadata": {
    "id": "aKmbxVTInK4W",
    "outputId": "981a284d-1f2f-4813-b510-3b10ab662dac"
   },
   "outputs": [
    {
     "name": "stdout",
     "output_type": "stream",
     "text": [
      "                  precision    recall  f1-score   support\n",
      "\n",
      "        aloo_mix       0.89      0.63      0.74        27\n",
      "      aloo_tikki       0.77      0.62      0.69        32\n",
      "          banana       1.00      0.86      0.93        22\n",
      "   bhindi_masala       0.70      0.83      0.76        23\n",
      "          burger       0.95      0.98      0.97        62\n",
      "            chai       0.88      0.86      0.87        77\n",
      "    chana_masala       0.52      0.83      0.64        48\n",
      "         chapati       0.84      0.80      0.82       110\n",
      "   chole_bhature       0.78      0.88      0.83        97\n",
      "       dahi_vada       0.90      0.59      0.71        44\n",
      "     dal_makhani       0.86      0.86      0.86        86\n",
      "       dal_tadka       0.62      0.45      0.53        22\n",
      "            eggs       0.69      0.58      0.63        31\n",
      "      fried_rice       0.82      0.84      0.83        95\n",
      "     gulab jamun       0.84      0.90      0.87        51\n",
      "           halwa       0.75      0.87      0.80        75\n",
      "        icecream       0.87      0.84      0.86       109\n",
      "            idli       0.83      0.92      0.87       154\n",
      "          jalebi       0.97      0.89      0.93       106\n",
      "    kaathi_rolls       0.85      0.87      0.86        79\n",
      "    kadhi_pakoda       0.78      0.67      0.72        21\n",
      "         mangoes       0.90      0.70      0.79        27\n",
      "     masala_dosa       0.84      0.90      0.87       109\n",
      "        meduvada       0.80      0.81      0.80        43\n",
      "           momos       0.85      0.89      0.87        64\n",
      "            naan       0.90      0.86      0.88       130\n",
      "         noodles       0.85      0.88      0.86        40\n",
      "         oranges       0.74      0.95      0.83        21\n",
      "      paani_puri       0.75      0.87      0.81        53\n",
      "          pakode       0.86      0.79      0.82        77\n",
      "          paneer       0.84      0.81      0.82       144\n",
      "       pav_bhaji       0.81      0.70      0.75        71\n",
      "           pizza       0.87      0.92      0.89        59\n",
      "           poori       0.80      0.64      0.72        76\n",
      "        rasgulla       0.77      0.82      0.79        44\n",
      "refreshing_drink       0.81      0.83      0.82        60\n",
      "            rice       0.88      0.75      0.81        28\n",
      "          samosa       0.81      0.86      0.83       113\n",
      "tandoori chicken       0.84      0.80      0.82        46\n",
      "           toast       1.00      0.60      0.75        20\n",
      "\n",
      "        accuracy                           0.83      2596\n",
      "       macro avg       0.83      0.80      0.81      2596\n",
      "    weighted avg       0.83      0.83      0.83      2596\n",
      "\n"
     ]
    }
   ],
   "source": [
    "from sklearn.metrics import classification_report,confusion_matrix\n",
    "print(classification_report(y_val,prediction,target_names=categories))"
   ]
  },
  {
   "cell_type": "code",
   "execution_count": null,
   "metadata": {
    "id": "49O11QV4nK4W"
   },
   "outputs": [],
   "source": []
  },
  {
   "cell_type": "code",
   "execution_count": null,
   "metadata": {
    "id": "Dlzoh_QdnK4W"
   },
   "outputs": [],
   "source": []
  },
  {
   "cell_type": "code",
   "execution_count": null,
   "metadata": {
    "id": "WBiTWyXMnK4X"
   },
   "outputs": [],
   "source": []
  },
  {
   "cell_type": "code",
   "execution_count": null,
   "metadata": {
    "id": "3NuxyvjNnK4X"
   },
   "outputs": [],
   "source": []
  },
  {
   "cell_type": "code",
   "execution_count": null,
   "metadata": {
    "id": "_KZ2I6h-nK4X"
   },
   "outputs": [],
   "source": []
  }
 ],
 "metadata": {
  "accelerator": "GPU",
  "colab": {
   "collapsed_sections": [],
   "name": "mobile_dropout.ipynb",
   "provenance": []
  },
  "kernelspec": {
   "display_name": "Python 3",
   "language": "python",
   "name": "python3"
  },
  "language_info": {
   "codemirror_mode": {
    "name": "ipython",
    "version": 3
   },
   "file_extension": ".py",
   "mimetype": "text/x-python",
   "name": "python",
   "nbconvert_exporter": "python",
   "pygments_lexer": "ipython3",
   "version": "3.7.7"
  }
 },
 "nbformat": 4,
 "nbformat_minor": 1
}
