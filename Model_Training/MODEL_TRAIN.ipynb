{
 "cells": [
  {
   "cell_type": "markdown",
   "metadata": {},
   "source": [
    "### CODE RUN ON GOOGLE COLAB, Data used from google drive."
   ]
  },
  {
   "cell_type": "markdown",
   "metadata": {},
   "source": [
    "#### Data preparred by merging various datasets together and also have manually downloaded a few classes from google"
   ]
  },
  {
   "cell_type": "code",
   "execution_count": null,
   "metadata": {
    "id": "6oKnhfk9a43g"
   },
   "outputs": [],
   "source": [
    "\"\"\"\n",
    "Imports\n",
    "import os\n",
    "from PIL import Image\n",
    "import splitfolders\n",
    "!pip install split-folders\n",
    "import numpy as np\n",
    "import pandas as pd\n",
    "%matplotlib inline\n",
    "import matplotlib.pyplot as plt\n",
    "import tensorflow as tf\n",
    "from tensorflow import keras\n",
    "\"\"\"\n"
   ]
  },
  {
   "cell_type": "code",
   "execution_count": 1,
   "metadata": {
    "executionInfo": {
     "elapsed": 9623,
     "status": "ok",
     "timestamp": 1620407462539,
     "user": {
      "displayName": "Jaidev Rawat",
      "photoUrl": "",
      "userId": "09041267917564900854"
     },
     "user_tz": -330
    },
    "id": "OaXVxpz4rGjX"
   },
   "outputs": [],
   "source": [
    "# GPU configuration\n",
    "from tensorflow.compat.v1 import ConfigProto\n",
    "from tensorflow.compat.v1 import InteractiveSession\n",
    "\n",
    "config = ConfigProto()\n",
    "config.gpu_options.per_process_gpu_memory_fraction = 0.5\n",
    "config.gpu_options.allow_growth = True\n",
    "session = InteractiveSession(config=config)"
   ]
  },
  {
   "cell_type": "code",
   "execution_count": null,
   "metadata": {
    "colab": {
     "base_uri": "https://localhost:8080/"
    },
    "executionInfo": {
     "elapsed": 30677,
     "status": "ok",
     "timestamp": 1620299642364,
     "user": {
      "displayName": "Jaidev Rawat",
      "photoUrl": "",
      "userId": "09041267917564900854"
     },
     "user_tz": -330
    },
    "id": "oRa73t2vYbEB",
    "outputId": "48704e01-d719-4f06-8713-c4401c8ad9e8"
   },
   "outputs": [
    {
     "name": "stdout",
     "output_type": "stream",
     "text": [
      "Mounted at /content/gdrive\n"
     ]
    }
   ],
   "source": [
    "from google.colab import drive\n",
    "drive.mount('/content/gdrive')"
   ]
  },
  {
   "cell_type": "code",
   "execution_count": 1,
   "metadata": {
    "executionInfo": {
     "elapsed": 9618,
     "status": "ok",
     "timestamp": 1620407462540,
     "user": {
      "displayName": "Jaidev Rawat",
      "photoUrl": "",
      "userId": "09041267917564900854"
     },
     "user_tz": -330
    },
    "id": "XqcTtWPP0oHB"
   },
   "outputs": [],
   "source": [
    "import os\n"
   ]
  },
  {
   "cell_type": "markdown",
   "metadata": {
    "id": "4O5FRwwCjXpG"
   },
   "source": [
    "#Data Preprocessing"
   ]
  },
  {
   "cell_type": "markdown",
   "metadata": {
    "id": "f27cF9V6Y7FS"
   },
   "source": [
    "Checking for Corrupt Files"
   ]
  },
  {
   "cell_type": "code",
   "execution_count": null,
   "metadata": {
    "id": "M__-yXwyYeBS"
   },
   "outputs": [],
   "source": [
    "\"\"\"import os\n",
    "from PIL import Image\n",
    "folder_path = r'/content/gdrive/MyDrive/FOOD_APP/dataset'\n",
    "extensions = ['jpg', 'png', 'bmp', 'gif']\n",
    "for fldr in os.listdir(folder_path):\n",
    "    sub_folder_path = os.path.join(folder_path, fldr)\n",
    "    for filee in os.listdir(sub_folder_path):\n",
    "        file_path = os.path.join(sub_folder_path, filee)\n",
    "        print('** Path: {}  **'.format(file_path), end=\"\\r\", flush=True)\n",
    "        im = Image.open(file_path)\n",
    "        rgb_im = im.convert('RGB')\n",
    "        if filee.split('.')[1] not in extensions:\n",
    "            extensions.append(filee.split('.')[1])\"\"\""
   ]
  },
  {
   "cell_type": "code",
   "execution_count": null,
   "metadata": {
    "id": "spD7RCYoZSXc"
   },
   "outputs": [],
   "source": [
    "#Deleting corrupt files\n",
    "#os.remove('/content/gdrive/MyDrive/FOOD_APP/dataset/biriyani/04d39a92fc.jpg')"
   ]
  },
  {
   "cell_type": "code",
   "execution_count": null,
   "metadata": {
    "colab": {
     "base_uri": "https://localhost:8080/"
    },
    "executionInfo": {
     "elapsed": 26786,
     "status": "ok",
     "timestamp": 1620381679864,
     "user": {
      "displayName": "Jaidev Rawat",
      "photoUrl": "",
      "userId": "09041267917564900854"
     },
     "user_tz": -330
    },
    "id": "M4tKe4W8aBTG",
    "outputId": "07ad8fa6-ab56-4014-9b49-1ca4e1c2a2b8"
   },
   "outputs": [
    {
     "name": "stdout",
     "output_type": "stream",
     "text": [
      "rice   140\n",
      "ras_malai   100\n",
      "samosa   562\n",
      "tandoori chicken   228\n",
      "refreshing_drink   297\n",
      "toast   100\n",
      "poori   377\n",
      "rasgulla   217\n",
      "pizza   287\n",
      "noodles   195\n",
      "paani_puri   259\n",
      "pakode   382\n",
      "naan   648\n",
      "oranges   102\n",
      "meduvada   212\n",
      "pav_bhaji   353\n",
      "paneer   717\n",
      "momos   317\n",
      "mangoes   131\n",
      "kaathi_rolls   391\n",
      "icecream   542\n",
      "halwa   367\n",
      "idli   765\n",
      "jalebi   528\n",
      "kadhi_pakoda   102\n",
      "masala_dosa   541\n",
      "eggs   149\n",
      "gulab jamun   247\n",
      "fried_rice   471\n",
      "dal_tadka   108\n",
      "dal_makhani   425\n",
      "chole_bhature   478\n",
      "chapati   545\n",
      "dahi_vada   220\n",
      "chicken   220\n",
      "chaat   117\n",
      "aloo_mix   133\n",
      "bhindi_masala   107\n",
      "burger   308\n",
      "aloo_tikki   157\n",
      "chai   378\n",
      "banana   103\n",
      "chana_masala   237\n"
     ]
    }
   ],
   "source": [
    "\n",
    "\n",
    "# Count Files\n",
    "import os\n",
    "folder_path = r'/content/drive/MyDrive/FOOD_APP/dataset'\n",
    "for fldr in os.listdir(folder_path):\n",
    "    sub_folder_path = os.path.join(folder_path, fldr)\n",
    "    count=0\n",
    "    for filee in os.listdir(sub_folder_path):\n",
    "        count=count+1\n",
    "    print(fldr,\" \",count)\n",
    "        "
   ]
  },
  {
   "cell_type": "code",
   "execution_count": null,
   "metadata": {
    "colab": {
     "base_uri": "https://localhost:8080/"
    },
    "executionInfo": {
     "elapsed": 5207,
     "status": "ok",
     "timestamp": 1620381696358,
     "user": {
      "displayName": "Jaidev Rawat",
      "photoUrl": "",
      "userId": "09041267917564900854"
     },
     "user_tz": -330
    },
    "id": "Oiwhgvbme2TS",
    "outputId": "e509faed-3bfb-47f1-d6d7-60eb759487d7"
   },
   "outputs": [
    {
     "name": "stdout",
     "output_type": "stream",
     "text": [
      "Collecting split-folders\n",
      "  Downloading https://files.pythonhosted.org/packages/b8/5f/3c2b2f7ea5e047c8cdc3bb00ae582c5438fcdbbedcc23b3cc1c2c7aae642/split_folders-0.4.3-py3-none-any.whl\n",
      "Installing collected packages: split-folders\n",
      "Successfully installed split-folders-0.4.3\n"
     ]
    }
   ],
   "source": [
    "\n",
    "!pip install split-folders"
   ]
  },
  {
   "cell_type": "code",
   "execution_count": null,
   "metadata": {
    "colab": {
     "base_uri": "https://localhost:8080/"
    },
    "executionInfo": {
     "elapsed": 3742875,
     "status": "ok",
     "timestamp": 1620385446927,
     "user": {
      "displayName": "Jaidev Rawat",
      "photoUrl": "",
      "userId": "09041267917564900854"
     },
     "user_tz": -330
    },
    "id": "8pFIqv0oeAe0",
    "outputId": "7e09da96-06c2-4112-daa4-d0fcd1d50fd0"
   },
   "outputs": [
    {
     "name": "stderr",
     "output_type": "stream",
     "text": [
      "Copying files: 13263 files [1:02:19,  3.55 files/s]\n"
     ]
    }
   ],
   "source": [
    "#Spliting to Train Validate Test Folders\n",
    "import splitfolders\n",
    "splitfolders.ratio(r\"/content/drive/MyDrive/FOOD_APP/dataset\", output=r\"/content/drive/MyDrive/FOOD_APP/output\", seed=223, ratio=(.55, 0.25,0.2)) "
   ]
  },
  {
   "cell_type": "code",
   "execution_count": 3,
   "metadata": {
    "executionInfo": {
     "elapsed": 1255,
     "status": "ok",
     "timestamp": 1620407477929,
     "user": {
      "displayName": "Jaidev Rawat",
      "photoUrl": "",
      "userId": "09041267917564900854"
     },
     "user_tz": -330
    },
    "id": "QJ9oDxZhHQ6M"
   },
   "outputs": [],
   "source": [
    "\n",
    "#paths\n",
    "train_dir = r'/content/drive/MyDrive/FOOD_APP/output/train'\n",
    "validation_dir = r'/content/drive/MyDrive/FOOD_APP/output/val'\n",
    "test_dir =r'/content/drive/MyDrive/FOOD_APP/output/test'"
   ]
  },
  {
   "cell_type": "code",
   "execution_count": null,
   "metadata": {
    "colab": {
     "base_uri": "https://localhost:8080/"
    },
    "executionInfo": {
     "elapsed": 24038,
     "status": "ok",
     "timestamp": 1620389628324,
     "user": {
      "displayName": "Jaidev Rawat",
      "photoUrl": "",
      "userId": "09041267917564900854"
     },
     "user_tz": -330
    },
    "id": "k1ktktfCl_QT",
    "outputId": "4ca44668-cbb1-4e2c-8066-f2fae1e7b1a3"
   },
   "outputs": [
    {
     "name": "stdout",
     "output_type": "stream",
     "text": [
      "rice   77\n",
      "ras_malai   55\n",
      "samosa   309\n",
      "tandoori chicken   125\n",
      "refreshing_drink   163\n",
      "toast   55\n",
      "poori   207\n",
      "rasgulla   119\n",
      "pizza   157\n",
      "noodles   107\n",
      "paani_puri   142\n",
      "pakode   210\n",
      "naan   356\n",
      "oranges   56\n",
      "meduvada   116\n",
      "pav_bhaji   194\n",
      "paneer   394\n",
      "momos   174\n",
      "mangoes   72\n",
      "kaathi_rolls   215\n",
      "icecream   298\n",
      "halwa   201\n",
      "idli   420\n",
      "jalebi   290\n",
      "kadhi_pakoda   56\n",
      "masala_dosa   297\n",
      "eggs   81\n",
      "gulab jamun   135\n",
      "fried_rice   259\n",
      "dal_tadka   59\n",
      "dal_makhani   233\n",
      "chole_bhature   262\n",
      "chapati   299\n",
      "dahi_vada   121\n",
      "chicken   121\n",
      "chaat   64\n",
      "aloo_mix   73\n",
      "bhindi_masala   58\n",
      "burger   169\n",
      "aloo_tikki   86\n",
      "chai   207\n",
      "banana   56\n",
      "chana_masala   130\n"
     ]
    }
   ],
   "source": [
    "\n",
    "# Count Train Data Files\n",
    "folder_path = r'/content/drive/MyDrive/FOOD_APP/output/train'\n",
    "for fldr in os.listdir(folder_path):\n",
    "    sub_folder_path = os.path.join(folder_path, fldr)\n",
    "    count=0\n",
    "    for filee in os.listdir(sub_folder_path):\n",
    "        count=count+1\n",
    "    print(fldr,\" \",count)"
   ]
  }
 ],
 "metadata": {
  "kernelspec": {
   "display_name": "Python 3",
   "language": "python",
   "name": "python3"
  },
  "language_info": {
   "codemirror_mode": {
    "name": "ipython",
    "version": 3
   },
   "file_extension": ".py",
   "mimetype": "text/x-python",
   "name": "python",
   "nbconvert_exporter": "python",
   "pygments_lexer": "ipython3",
   "version": "3.7.7"
  }
 },
 "nbformat": 4,
 "nbformat_minor": 4
}
